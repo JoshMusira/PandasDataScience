{
 "cells": [
  {
   "cell_type": "code",
   "execution_count": 1,
   "id": "2c25cd45",
   "metadata": {},
   "outputs": [],
   "source": [
    "import pandas as pd\n",
    "import numpy  as np"
   ]
  },
  {
   "cell_type": "code",
   "execution_count": 2,
   "id": "53c093bd",
   "metadata": {},
   "outputs": [],
   "source": [
    "#Population is in millions\n",
    "\n",
    "population = pd.Series([45.234,34.654,77.422,98.632,863.7432,444.522,995.322])"
   ]
  },
  {
   "cell_type": "code",
   "execution_count": 3,
   "id": "1898a8b2",
   "metadata": {},
   "outputs": [
    {
     "data": {
      "text/plain": [
       "0     45.2340\n",
       "1     34.6540\n",
       "2     77.4220\n",
       "3     98.6320\n",
       "4    863.7432\n",
       "5    444.5220\n",
       "6    995.3220\n",
       "dtype: float64"
      ]
     },
     "execution_count": 3,
     "metadata": {},
     "output_type": "execute_result"
    }
   ],
   "source": [
    "population"
   ]
  },
  {
   "cell_type": "markdown",
   "id": "dfec4a83",
   "metadata": {},
   "source": [
    "# Naming your series"
   ]
  },
  {
   "cell_type": "code",
   "execution_count": 4,
   "id": "05ac4bec",
   "metadata": {},
   "outputs": [],
   "source": [
    "population.name = \"7 Countries population in millions\""
   ]
  },
  {
   "cell_type": "code",
   "execution_count": 5,
   "id": "6745437c",
   "metadata": {},
   "outputs": [
    {
     "data": {
      "text/plain": [
       "0     45.2340\n",
       "1     34.6540\n",
       "2     77.4220\n",
       "3     98.6320\n",
       "4    863.7432\n",
       "5    444.5220\n",
       "6    995.3220\n",
       "Name: 7 Countries population in millions, dtype: float64"
      ]
     },
     "execution_count": 5,
     "metadata": {},
     "output_type": "execute_result"
    }
   ],
   "source": [
    "population"
   ]
  },
  {
   "cell_type": "code",
   "execution_count": null,
   "id": "f83ad038",
   "metadata": {},
   "outputs": [],
   "source": []
  }
 ],
 "metadata": {
  "kernelspec": {
   "display_name": "Python 3 (ipykernel)",
   "language": "python",
   "name": "python3"
  },
  "language_info": {
   "codemirror_mode": {
    "name": "ipython",
    "version": 3
   },
   "file_extension": ".py",
   "mimetype": "text/x-python",
   "name": "python",
   "nbconvert_exporter": "python",
   "pygments_lexer": "ipython3",
   "version": "3.11.5"
  }
 },
 "nbformat": 4,
 "nbformat_minor": 5
}
