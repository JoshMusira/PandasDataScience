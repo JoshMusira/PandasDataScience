{
 "cells": [
  {
   "cell_type": "code",
   "execution_count": 1,
   "id": "cbd6e090",
   "metadata": {},
   "outputs": [],
   "source": [
    "import pandas as pd\n",
    "import numpy  as np"
   ]
  },
  {
   "cell_type": "code",
   "execution_count": 2,
   "id": "589b0d9d",
   "metadata": {},
   "outputs": [],
   "source": [
    "#Population is in millions\n",
    "\n",
    "population = pd.Series([45.234,34.654,77.422,98.632,863.7432,444.522,995.322])"
   ]
  },
  {
   "cell_type": "code",
   "execution_count": 3,
   "id": "b7104f78",
   "metadata": {},
   "outputs": [
    {
     "data": {
      "text/plain": [
       "0     45.2340\n",
       "1     34.6540\n",
       "2     77.4220\n",
       "3     98.6320\n",
       "4    863.7432\n",
       "5    444.5220\n",
       "6    995.3220\n",
       "dtype: float64"
      ]
     },
     "execution_count": 3,
     "metadata": {},
     "output_type": "execute_result"
    }
   ],
   "source": [
    "population"
   ]
  },
  {
   "cell_type": "markdown",
   "id": "9c58fddf",
   "metadata": {},
   "source": [
    "# Naming your series"
   ]
  },
  {
   "cell_type": "code",
   "execution_count": 4,
   "id": "712f22b9",
   "metadata": {},
   "outputs": [],
   "source": [
    "population.name = \"7 Countries population in millions\""
   ]
  },
  {
   "cell_type": "code",
   "execution_count": 5,
   "id": "d44d3106",
   "metadata": {},
   "outputs": [
    {
     "data": {
      "text/plain": [
       "0     45.2340\n",
       "1     34.6540\n",
       "2     77.4220\n",
       "3     98.6320\n",
       "4    863.7432\n",
       "5    444.5220\n",
       "6    995.3220\n",
       "Name: 7 Countries population in millions, dtype: float64"
      ]
     },
     "execution_count": 5,
     "metadata": {},
     "output_type": "execute_result"
    }
   ],
   "source": [
    "population"
   ]
  },
  {
   "cell_type": "markdown",
   "id": "70ade8c6",
   "metadata": {},
   "source": [
    "## Series are  similar to numpy arrays:"
   ]
  },
  {
   "cell_type": "code",
   "execution_count": 6,
   "id": "dc28ef53",
   "metadata": {},
   "outputs": [
    {
     "data": {
      "text/plain": [
       "dtype('float64')"
      ]
     },
     "execution_count": 6,
     "metadata": {},
     "output_type": "execute_result"
    }
   ],
   "source": [
    "population.dtype"
   ]
  },
  {
   "cell_type": "code",
   "execution_count": 7,
   "id": "bb8c57b7",
   "metadata": {},
   "outputs": [
    {
     "data": {
      "text/plain": [
       "array([ 45.234 ,  34.654 ,  77.422 ,  98.632 , 863.7432, 444.522 ,\n",
       "       995.322 ])"
      ]
     },
     "execution_count": 7,
     "metadata": {},
     "output_type": "execute_result"
    }
   ],
   "source": [
    "population.values"
   ]
  },
  {
   "cell_type": "markdown",
   "id": "f16488aa",
   "metadata": {},
   "source": [
    "## A Series has an index, that's similar to the automatic index assigned to Python's lists:"
   ]
  },
  {
   "cell_type": "code",
   "execution_count": 8,
   "id": "747fbb54",
   "metadata": {},
   "outputs": [
    {
     "data": {
      "text/plain": [
       "0     45.2340\n",
       "1     34.6540\n",
       "2     77.4220\n",
       "3     98.6320\n",
       "4    863.7432\n",
       "5    444.5220\n",
       "6    995.3220\n",
       "Name: 7 Countries population in millions, dtype: float64"
      ]
     },
     "execution_count": 8,
     "metadata": {},
     "output_type": "execute_result"
    }
   ],
   "source": [
    "population"
   ]
  },
  {
   "cell_type": "code",
   "execution_count": 9,
   "id": "74d04f5b",
   "metadata": {},
   "outputs": [
    {
     "data": {
      "text/plain": [
       "45.234"
      ]
     },
     "execution_count": 9,
     "metadata": {},
     "output_type": "execute_result"
    }
   ],
   "source": [
    "population[0]"
   ]
  },
  {
   "cell_type": "code",
   "execution_count": 10,
   "id": "d3bbf876",
   "metadata": {},
   "outputs": [
    {
     "data": {
      "text/plain": [
       "444.522"
      ]
     },
     "execution_count": 10,
     "metadata": {},
     "output_type": "execute_result"
    }
   ],
   "source": [
    "population[5]"
   ]
  },
  {
   "cell_type": "markdown",
   "id": "235e53a7",
   "metadata": {},
   "source": [
    "# Note"
   ]
  },
  {
   "cell_type": "code",
   "execution_count": 11,
   "id": "8a3852cd",
   "metadata": {},
   "outputs": [
    {
     "ename": "KeyError",
     "evalue": "7",
     "output_type": "error",
     "traceback": [
      "\u001b[1;31m---------------------------------------------------------------------------\u001b[0m",
      "\u001b[1;31mValueError\u001b[0m                                Traceback (most recent call last)",
      "File \u001b[1;32m~\\anaconda3\\Lib\\site-packages\\pandas\\core\\indexes\\range.py:414\u001b[0m, in \u001b[0;36mRangeIndex.get_loc\u001b[1;34m(self, key)\u001b[0m\n\u001b[0;32m    413\u001b[0m \u001b[38;5;28;01mtry\u001b[39;00m:\n\u001b[1;32m--> 414\u001b[0m     \u001b[38;5;28;01mreturn\u001b[39;00m \u001b[38;5;28mself\u001b[39m\u001b[38;5;241m.\u001b[39m_range\u001b[38;5;241m.\u001b[39mindex(new_key)\n\u001b[0;32m    415\u001b[0m \u001b[38;5;28;01mexcept\u001b[39;00m \u001b[38;5;167;01mValueError\u001b[39;00m \u001b[38;5;28;01mas\u001b[39;00m err:\n",
      "\u001b[1;31mValueError\u001b[0m: 7 is not in range",
      "\nThe above exception was the direct cause of the following exception:\n",
      "\u001b[1;31mKeyError\u001b[0m                                  Traceback (most recent call last)",
      "Cell \u001b[1;32mIn[11], line 1\u001b[0m\n\u001b[1;32m----> 1\u001b[0m population[\u001b[38;5;241m7\u001b[39m]\n",
      "File \u001b[1;32m~\\anaconda3\\Lib\\site-packages\\pandas\\core\\series.py:1040\u001b[0m, in \u001b[0;36mSeries.__getitem__\u001b[1;34m(self, key)\u001b[0m\n\u001b[0;32m   1037\u001b[0m     \u001b[38;5;28;01mreturn\u001b[39;00m \u001b[38;5;28mself\u001b[39m\u001b[38;5;241m.\u001b[39m_values[key]\n\u001b[0;32m   1039\u001b[0m \u001b[38;5;28;01melif\u001b[39;00m key_is_scalar:\n\u001b[1;32m-> 1040\u001b[0m     \u001b[38;5;28;01mreturn\u001b[39;00m \u001b[38;5;28mself\u001b[39m\u001b[38;5;241m.\u001b[39m_get_value(key)\n\u001b[0;32m   1042\u001b[0m \u001b[38;5;66;03m# Convert generator to list before going through hashable part\u001b[39;00m\n\u001b[0;32m   1043\u001b[0m \u001b[38;5;66;03m# (We will iterate through the generator there to check for slices)\u001b[39;00m\n\u001b[0;32m   1044\u001b[0m \u001b[38;5;28;01mif\u001b[39;00m is_iterator(key):\n",
      "File \u001b[1;32m~\\anaconda3\\Lib\\site-packages\\pandas\\core\\series.py:1156\u001b[0m, in \u001b[0;36mSeries._get_value\u001b[1;34m(self, label, takeable)\u001b[0m\n\u001b[0;32m   1153\u001b[0m     \u001b[38;5;28;01mreturn\u001b[39;00m \u001b[38;5;28mself\u001b[39m\u001b[38;5;241m.\u001b[39m_values[label]\n\u001b[0;32m   1155\u001b[0m \u001b[38;5;66;03m# Similar to Index.get_value, but we do not fall back to positional\u001b[39;00m\n\u001b[1;32m-> 1156\u001b[0m loc \u001b[38;5;241m=\u001b[39m \u001b[38;5;28mself\u001b[39m\u001b[38;5;241m.\u001b[39mindex\u001b[38;5;241m.\u001b[39mget_loc(label)\n\u001b[0;32m   1158\u001b[0m \u001b[38;5;28;01mif\u001b[39;00m is_integer(loc):\n\u001b[0;32m   1159\u001b[0m     \u001b[38;5;28;01mreturn\u001b[39;00m \u001b[38;5;28mself\u001b[39m\u001b[38;5;241m.\u001b[39m_values[loc]\n",
      "File \u001b[1;32m~\\anaconda3\\Lib\\site-packages\\pandas\\core\\indexes\\range.py:416\u001b[0m, in \u001b[0;36mRangeIndex.get_loc\u001b[1;34m(self, key)\u001b[0m\n\u001b[0;32m    414\u001b[0m         \u001b[38;5;28;01mreturn\u001b[39;00m \u001b[38;5;28mself\u001b[39m\u001b[38;5;241m.\u001b[39m_range\u001b[38;5;241m.\u001b[39mindex(new_key)\n\u001b[0;32m    415\u001b[0m     \u001b[38;5;28;01mexcept\u001b[39;00m \u001b[38;5;167;01mValueError\u001b[39;00m \u001b[38;5;28;01mas\u001b[39;00m err:\n\u001b[1;32m--> 416\u001b[0m         \u001b[38;5;28;01mraise\u001b[39;00m \u001b[38;5;167;01mKeyError\u001b[39;00m(key) \u001b[38;5;28;01mfrom\u001b[39;00m \u001b[38;5;21;01merr\u001b[39;00m\n\u001b[0;32m    417\u001b[0m \u001b[38;5;28;01mif\u001b[39;00m \u001b[38;5;28misinstance\u001b[39m(key, Hashable):\n\u001b[0;32m    418\u001b[0m     \u001b[38;5;28;01mraise\u001b[39;00m \u001b[38;5;167;01mKeyError\u001b[39;00m(key)\n",
      "\u001b[1;31mKeyError\u001b[0m: 7"
     ]
    }
   ],
   "source": [
    "population[7]"
   ]
  },
  {
   "cell_type": "code",
   "execution_count": 13,
   "id": "02af2703",
   "metadata": {},
   "outputs": [
    {
     "data": {
      "text/plain": [
       "RangeIndex(start=0, stop=7, step=1)"
      ]
     },
     "execution_count": 13,
     "metadata": {},
     "output_type": "execute_result"
    }
   ],
   "source": [
    "population.index"
   ]
  },
  {
   "cell_type": "markdown",
   "id": "bfca8ecc",
   "metadata": {},
   "source": [
    "## In contrast to lists, we can explicitly define the index:"
   ]
  },
  {
   "cell_type": "code",
   "execution_count": 14,
   "id": "072e9f5d",
   "metadata": {},
   "outputs": [],
   "source": [
    "population.index = [\n",
    "    'Kenya',\n",
    "    'Uganda',\n",
    "    'Ethiopia',\n",
    "    'South Africa',\n",
    "    'Congo',\n",
    "    'Tanzania',\n",
    "    'Algeria'\n",
    "]"
   ]
  },
  {
   "cell_type": "code",
   "execution_count": 15,
   "id": "230b33e7",
   "metadata": {},
   "outputs": [
    {
     "data": {
      "text/plain": [
       "Kenya            45.2340\n",
       "Uganda           34.6540\n",
       "Ethiopia         77.4220\n",
       "South Africa     98.6320\n",
       "Congo           863.7432\n",
       "Tanzania        444.5220\n",
       "Algeria         995.3220\n",
       "Name: 7 Countries population in millions, dtype: float64"
      ]
     },
     "execution_count": 15,
     "metadata": {},
     "output_type": "execute_result"
    }
   ],
   "source": [
    "population"
   ]
  },
  {
   "cell_type": "markdown",
   "id": "65b6b7d7",
   "metadata": {},
   "source": [
    "### We can say that Series look like \"ordered dictionaries\". We can actually create Series out of dictionaries:"
   ]
  },
  {
   "cell_type": "code",
   "execution_count": 19,
   "id": "71b0fc2d",
   "metadata": {},
   "outputs": [
    {
     "data": {
      "text/plain": [
       "Canada            212.323\n",
       "France            773.313\n",
       "Germany            34.422\n",
       "Italy             998.767\n",
       "Japan             789.422\n",
       "United Kingdom    788.777\n",
       "United States     998.422\n",
       "Name: Population of developed countries in millions, dtype: float64"
      ]
     },
     "execution_count": 19,
     "metadata": {},
     "output_type": "execute_result"
    }
   ],
   "source": [
    "pd.Series({\n",
    "    'Canada': 212.323,\n",
    "    'France':773.313,\n",
    "    'Germany': 34.422,\n",
    "    'Italy': 998.767,\n",
    "    'Japan': 789.422,\n",
    "    'United Kingdom': 788.777,\n",
    "    'United States': 998.422\n",
    "}, name = 'Population of developed countries in millions')"
   ]
  },
  {
   "cell_type": "code",
   "execution_count": 20,
   "id": "90deda15",
   "metadata": {},
   "outputs": [
    {
     "data": {
      "text/plain": [
       "45.234"
      ]
     },
     "execution_count": 20,
     "metadata": {},
     "output_type": "execute_result"
    }
   ],
   "source": [
    "population['Kenya']"
   ]
  },
  {
   "cell_type": "markdown",
   "id": "63d4378a",
   "metadata": {},
   "source": [
    "## Numeric positions can also be used, with the iloc attribute:"
   ]
  },
  {
   "cell_type": "code",
   "execution_count": 21,
   "id": "b6668265",
   "metadata": {},
   "outputs": [
    {
     "data": {
      "text/plain": [
       "98.632"
      ]
     },
     "execution_count": 21,
     "metadata": {},
     "output_type": "execute_result"
    }
   ],
   "source": [
    "population.iloc[3]"
   ]
  },
  {
   "cell_type": "markdown",
   "id": "8edd9e3d",
   "metadata": {},
   "source": [
    "### Selecting multiple elements at once:"
   ]
  },
  {
   "cell_type": "code",
   "execution_count": 23,
   "id": "8acbb5b6",
   "metadata": {},
   "outputs": [
    {
     "data": {
      "text/plain": [
       "Kenya     45.234\n",
       "Uganda    34.654\n",
       "Name: 7 Countries population in millions, dtype: float64"
      ]
     },
     "execution_count": 23,
     "metadata": {},
     "output_type": "execute_result"
    }
   ],
   "source": [
    "population[['Kenya','Uganda']]"
   ]
  },
  {
   "cell_type": "code",
   "execution_count": 26,
   "id": "753eacf3",
   "metadata": {},
   "outputs": [
    {
     "data": {
      "text/plain": [
       "Uganda       34.654\n",
       "Tanzania    444.522\n",
       "Name: 7 Countries population in millions, dtype: float64"
      ]
     },
     "execution_count": 26,
     "metadata": {},
     "output_type": "execute_result"
    }
   ],
   "source": [
    "## The result is another series.\n",
    "\n",
    "population.iloc[[1,5]]"
   ]
  },
  {
   "cell_type": "markdown",
   "id": "aed1b8cf",
   "metadata": {},
   "source": [
    "### boolean arrays"
   ]
  },
  {
   "cell_type": "code",
   "execution_count": 27,
   "id": "73be914c",
   "metadata": {},
   "outputs": [
    {
     "data": {
      "text/plain": [
       "Kenya           False\n",
       "Uganda          False\n",
       "Ethiopia        False\n",
       "South Africa     True\n",
       "Congo            True\n",
       "Tanzania         True\n",
       "Algeria          True\n",
       "Name: 7 Countries population in millions, dtype: bool"
      ]
     },
     "execution_count": 27,
     "metadata": {},
     "output_type": "execute_result"
    }
   ],
   "source": [
    "population > 80"
   ]
  },
  {
   "cell_type": "code",
   "execution_count": 28,
   "id": "880825e3",
   "metadata": {},
   "outputs": [
    {
     "data": {
      "text/plain": [
       "Ethiopia         77.4220\n",
       "South Africa     98.6320\n",
       "Congo           863.7432\n",
       "Tanzania        444.5220\n",
       "Algeria         995.3220\n",
       "Name: 7 Countries population in millions, dtype: float64"
      ]
     },
     "execution_count": 28,
     "metadata": {},
     "output_type": "execute_result"
    }
   ],
   "source": [
    "population[population >  70]"
   ]
  },
  {
   "cell_type": "code",
   "execution_count": 29,
   "id": "5fb4caf9",
   "metadata": {},
   "outputs": [
    {
     "data": {
      "text/plain": [
       "365.64702857142856"
      ]
     },
     "execution_count": 29,
     "metadata": {},
     "output_type": "execute_result"
    }
   ],
   "source": [
    "population.mean()"
   ]
  },
  {
   "cell_type": "code",
   "execution_count": 30,
   "id": "9529ce62",
   "metadata": {},
   "outputs": [
    {
     "data": {
      "text/plain": [
       "411.78538365926215"
      ]
     },
     "execution_count": 30,
     "metadata": {},
     "output_type": "execute_result"
    }
   ],
   "source": [
    "population.std()"
   ]
  },
  {
   "cell_type": "code",
   "execution_count": 31,
   "id": "f8a0fc9a",
   "metadata": {},
   "outputs": [
    {
     "data": {
      "text/plain": [
       "Kenya            45234000.0\n",
       "Uganda           34654000.0\n",
       "Ethiopia         77422000.0\n",
       "South Africa     98632000.0\n",
       "Congo           863743200.0\n",
       "Tanzania        444522000.0\n",
       "Algeria         995322000.0\n",
       "Name: 7 Countries population in millions, dtype: float64"
      ]
     },
     "execution_count": 31,
     "metadata": {},
     "output_type": "execute_result"
    }
   ],
   "source": [
    "population * 1000000"
   ]
  },
  {
   "cell_type": "code",
   "execution_count": 32,
   "id": "f54af05e",
   "metadata": {},
   "outputs": [
    {
     "data": {
      "text/plain": [
       "Kenya           3.811849\n",
       "Uganda          3.545413\n",
       "Ethiopia        4.349271\n",
       "South Africa    4.591396\n",
       "Congo           6.761276\n",
       "Tanzania        6.097000\n",
       "Algeria         6.903066\n",
       "Name: 7 Countries population in millions, dtype: float64"
      ]
     },
     "execution_count": 32,
     "metadata": {},
     "output_type": "execute_result"
    }
   ],
   "source": [
    "np.log(population)"
   ]
  },
  {
   "cell_type": "markdown",
   "id": "b0d3b552",
   "metadata": {},
   "source": [
    "## Modifying series"
   ]
  },
  {
   "cell_type": "code",
   "execution_count": 34,
   "id": "321745e7",
   "metadata": {},
   "outputs": [],
   "source": [
    "\n",
    "population['Congo'] = 40.5"
   ]
  },
  {
   "cell_type": "code",
   "execution_count": 35,
   "id": "9412f42d",
   "metadata": {},
   "outputs": [
    {
     "data": {
      "text/plain": [
       "Kenya            45.234\n",
       "Uganda           34.654\n",
       "Ethiopia         77.422\n",
       "South Africa     98.632\n",
       "Congo            40.500\n",
       "Tanzania        444.522\n",
       "Algeria         995.322\n",
       "Name: 7 Countries population in millions, dtype: float64"
      ]
     },
     "execution_count": 35,
     "metadata": {},
     "output_type": "execute_result"
    }
   ],
   "source": [
    "population"
   ]
  },
  {
   "cell_type": "code",
   "execution_count": null,
   "id": "716a5368",
   "metadata": {},
   "outputs": [],
   "source": []
  }
 ],
 "metadata": {
  "kernelspec": {
   "display_name": "Python 3 (ipykernel)",
   "language": "python",
   "name": "python3"
  },
  "language_info": {
   "codemirror_mode": {
    "name": "ipython",
    "version": 3
   },
   "file_extension": ".py",
   "mimetype": "text/x-python",
   "name": "python",
   "nbconvert_exporter": "python",
   "pygments_lexer": "ipython3",
   "version": "3.11.5"
  }
 },
 "nbformat": 4,
 "nbformat_minor": 5
}
